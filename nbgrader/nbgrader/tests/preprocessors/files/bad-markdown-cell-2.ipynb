{
 "cells": [
  {
   "cell_type": "markdown",
   "metadata": {
    "collapsed": false,
    "nbgrader": {
     "solution": true
    }
   },
   "source": [
    "this is a markdown cell"
   ]
  }
 ],
 "metadata": {},
 "nbformat": 4,
 "nbformat_minor": 0
}
